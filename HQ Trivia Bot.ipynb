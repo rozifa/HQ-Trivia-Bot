{
 "cells": [
  {
   "cell_type": "code",
   "execution_count": 2,
   "metadata": {
    "collapsed": false
   },
   "outputs": [],
   "source": [
    "# Packages \n",
    "import tesserocr\n",
    "from PIL import Image\n",
    "import pyscreenshot\n",
    "from google import google"
   ]
  },
  {
   "cell_type": "code",
   "execution_count": null,
   "metadata": {
    "collapsed": true
   },
   "outputs": [],
   "source": [
    "def screengrab():\n",
    "    question_img = pyscreenshot.grab(bbox=(10,10,500,500))\n",
    "    ans1_img = pyscreenshot.grab(bbox=(10,10,500,500))\n",
    "    ans2_img = pyscreenshot.grab(bbox=(10,10,500,500))\n",
    "    ans3_img = pyscreenshot.grab(bbox=(10,10,500,500))"
   ]
  },
  {
   "cell_type": "code",
   "execution_count": 6,
   "metadata": {
    "collapsed": false
   },
   "outputs": [
    {
     "name": "stdout",
     "output_type": "stream",
     "text": [
      " \n",
      "\n",
      " \n",
      "\n",
      " \n",
      "\n",
      "I Chrome File Edit View History Bookmarks People Window Help M5 '10”? 95%-' W601 7517 PM Q\n",
      "\n",
      " \n",
      "\n",
      " \n",
      "\n",
      ". . . m lHacked X W Tesseract X 6‘ Using Tes x O FAQ-tess x Q tesserocr X E Vine's fOL x Q macos—‘l X C Home X C (Busy)H( x meme\n",
      "Cl\n",
      "' u C‘ (D localhost:8888/notebooks/HQ%20Trivia%20Bot.ipynb 75‘: a f? I 3\n",
      "Apps m i Banpresto EARTHBO... Aliexpress.com: Buy... 3 Library Genesis a Try Not To Laugh Ext.. Q Canandaigua Nation... D Gédel's Incompleten... a BqQVij.jpg (726x1... >>\n",
      "r< t . .\n",
      "v J U py e r HQ Terla Bot Last Checkpoint: a minute ago (unsaved changes)\n",
      ". File Edit View Insert Cell Kernel Help |Python [Root] 0\n",
      "‘ I+3<®E¢¢chcwe ¢ECellToolbar6ﬁu\n",
      "In [2]: # Packages\n",
      "import tesserocr\n",
      "~', from PIL import Image 1\n",
      "import pyscreenshot :\n",
      "r\n",
      "\\ 'uf‘f In [*]: # part of the screen\n",
      "\n",
      "screenshot = pyscreenshot . grab(bbox=( 10 , 10 , 500 , 500))\n",
      "screenshot. show( )\n",
      "\n",
      "# save to file\n",
      "pyscreenshot. grabitoifile( 'screenshot .png' )\n",
      "\n",
      "# Import and open screengrab\n",
      "\n",
      "image = Image.open( 'screenshot.pnq')\n",
      "\n",
      "# prints grabbed text from screenshot\n",
      "questionitext = tesserocr.imageitoitextu'mage)\n",
      "\n",
      "print questionitext\n",
      "\n",
      "In[ ]:\n",
      "\n",
      " \n",
      "\n",
      "\n"
     ]
    }
   ],
   "source": [
    "# Anatomy of the question\n",
    "question_img = pyscreenshot.grab(bbox=(10,10,500,500))\n",
    "ans1_img = pyscreenshot.grab(bbox=(10,10,500,500))\n",
    "ans2_img = pyscreenshot.grab(bbox=(10,10,500,500))\n",
    "ans3_img = pyscreenshot.grab(bbox=(10,10,500,500))\n",
    "\n",
    "# screenshot.show()\n",
    "\n",
    "# save to file\n",
    "pyscreenshot.grab_to_file('question_img.png')\n",
    "pyscreenshot.grab_to_file('ans1_img.png')\n",
    "pyscreenshot.grab_to_file('ans2_img.png')\n",
    "pyscreenshot.grab_to_file('ans3_img.png')\n",
    "\n",
    "# Import and open screengrabs\n",
    "op_question_img = Image.open('question_img.png')\n",
    "op_ans1_img = Image.open('ans1_img.png')\n",
    "op_ans2_img = Image.open('ans2_img.png')\n",
    "op_ans3_img = Image.open('ans3_img.png')\n",
    "\n",
    "# prints grabbed text from screenshot\n",
    "question_text = tesserocr.image_to_text(op_question_img)\n",
    "ans1_text = tesserocr.image_to_text(op_ans1_img)\n",
    "ans2_text = tesserocr.image_to_text(op_ans2_img)\n",
    "ans3_text = tesserocr.image_to_text(op_ans3_img)\n",
    "\n",
    "# print question_text"
   ]
  },
  {
   "cell_type": "code",
   "execution_count": 18,
   "metadata": {
    "collapsed": false
   },
   "outputs": [
    {
     "name": "stdout",
     "output_type": "stream",
     "text": [
      "big meme\n"
     ]
    }
   ],
   "source": [
    "def function():\n",
    "    global dummyvar \n",
    "    dummyvar = \"big meme\"\n",
    "    \n",
    "function()\n",
    "\n",
    "print dummyvar"
   ]
  },
  {
   "cell_type": "code",
   "execution_count": null,
   "metadata": {
    "collapsed": true
   },
   "outputs": [],
   "source": [
    "# maybe use automator to take screenshot and then run script."
   ]
  },
  {
   "cell_type": "code",
   "execution_count": null,
   "metadata": {
    "collapsed": true
   },
   "outputs": [],
   "source": [
    "num_page = 1\n",
    "search_results = google.search(\"location of the 2014 winter olympics\", num_page)\n",
    "\n",
    "# Search results is an object that is a list of lists. Each element corrosponds to one result.\n",
    "# Each result is composed of attributes like \"name\" and \"description\" that are strings and\n",
    "# can be counted. \n",
    "\n",
    "type(search_results)\n",
    "print search_results[0].name\n",
    "\n",
    "str1 = search_results[0].name\n",
    "count = str1.count(\"Winter\")\n",
    "print count"
   ]
  },
  {
   "cell_type": "markdown",
   "metadata": {},
   "source": [
    "# Search function"
   ]
  },
  {
   "cell_type": "markdown",
   "metadata": {},
   "source": [
    "Take in a google results object and three answer choices. Initilize an empty list called counts that stores the number of occurences of each answer choice in the search results. For each answer choice we want to cycle through each search result's description and count occurences of that answer choice, then append that count to the counts list. Finally we return the correct answer according to the highest count. "
   ]
  },
  {
   "cell_type": "code",
   "execution_count": null,
   "metadata": {
    "collapsed": true
   },
   "outputs": [],
   "source": [
    "# Run Time test on an actual question\n",
    "\n",
    "question = \"In Charles Dickens' A Christmas Carol, what was Mr. Scrooge's first name?\"\n",
    "choice1 = \"William\"\n",
    "choice2 = \"George\"\n",
    "choice3 = \"Ebenezer\"\n",
    "\n",
    "google_results = google.search(question, 1)\n",
    "\n",
    "def final_answer(results, ans1, ans2, ans3):\n",
    "    counts = []\n",
    "    answers = [ans1, ans2, ans3]\n",
    "    for i in answers:\n",
    "        for j in results:\n",
    "            converted_description = results[j].description\n",
    "        counted_description = converted_description.count(i)\n",
    "        counts.append(count)\n",
    "        \n",
    "    return max(counts)\n",
    "        \n",
    "final_answer(google_results,choice1,choice2,choice3)"
   ]
  },
  {
   "cell_type": "code",
   "execution_count": null,
   "metadata": {
    "collapsed": true
   },
   "outputs": [],
   "source": [
    "line = \"--------------------------------\"\n",
    "print google_results\n",
    "print line\n",
    "print google_results[0]\n",
    "print line\n",
    "print google_results[0].name\n",
    "print line\n",
    "print google_results[0].name.count(\"Marley\")\n",
    "\n",
    "lister = []\n",
    "lister.append(google_results[0].name.count(\"Marley\"))\n",
    "print lister\n",
    "\n",
    "question = \"In Charles Dickens' A Christmas Carol, what was Mr. Scrooge's first name?\"\n",
    "choice1 = \"William\"\n",
    "choice2 = \"George\"\n",
    "choice3 = \"Ebenezer\"\n",
    "\n",
    "container = []\n",
    "print container \n",
    "things = google.search(question, 1)\n",
    "meme = things[0].name.count(\"Marley\")\n",
    "container.append(meme)\n",
    "print container\n",
    "\n",
    "container.append(things[1].description.count(\"Scrooge\"))\n",
    "print max(container)"
   ]
  },
  {
   "cell_type": "markdown",
   "metadata": {},
   "source": [
    "Notes:\n",
    "\n",
    "If the question is structured \"Which of these:...?\" we should employ a different search method. Comparing the searched answeres with occurences of the characteristic presented in the question. For example: \"Which of these is a hip hop artist: Kendrick, Gaga, Metallica\" Search Kendrick Gaga and Metallica, store results, count occurences of \"hip hop\" in each result and output the correct answer as the result with the most occurences of \"hip hop\"."
   ]
  }
 ],
 "metadata": {
  "anaconda-cloud": {},
  "kernelspec": {
   "display_name": "Python [Root]",
   "language": "python",
   "name": "Python [Root]"
  },
  "language_info": {
   "codemirror_mode": {
    "name": "ipython",
    "version": 2
   },
   "file_extension": ".py",
   "mimetype": "text/x-python",
   "name": "python",
   "nbconvert_exporter": "python",
   "pygments_lexer": "ipython2",
   "version": "2.7.12"
  }
 },
 "nbformat": 4,
 "nbformat_minor": 0
}
