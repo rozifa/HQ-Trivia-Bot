{
 "cells": [
  {
   "cell_type": "code",
   "execution_count": 2,
   "metadata": {
    "collapsed": true
   },
   "outputs": [],
   "source": [
    "# Packages \n",
    "import tesserocr\n",
    "from PIL import Image\n",
    "import pyscreenshot\n",
    "from google import google"
   ]
  },
  {
   "cell_type": "code",
   "execution_count": 6,
   "metadata": {
    "collapsed": false
   },
   "outputs": [
    {
     "name": "stdout",
     "output_type": "stream",
     "text": [
      "Hearing aids\n",
      "\n",
      "\n"
     ]
    }
   ],
   "source": [
    "ans1_img = pyscreenshot.grab(bbox=(850,500,1600,590))\n",
    "ans1_img.show()\n",
    "ans1_text = tesserocr.image_to_text(ans1_img)\n",
    "\n",
    "print ans1_text"
   ]
  }
 ],
 "metadata": {
  "kernelspec": {
   "display_name": "Python [Root]",
   "language": "python",
   "name": "Python [Root]"
  },
  "language_info": {
   "codemirror_mode": {
    "name": "ipython",
    "version": 2
   },
   "file_extension": ".py",
   "mimetype": "text/x-python",
   "name": "python",
   "nbconvert_exporter": "python",
   "pygments_lexer": "ipython2",
   "version": "2.7.12"
  }
 },
 "nbformat": 4,
 "nbformat_minor": 0
}
