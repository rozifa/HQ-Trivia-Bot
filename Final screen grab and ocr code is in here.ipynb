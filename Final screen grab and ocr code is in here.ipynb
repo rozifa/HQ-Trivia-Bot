{
 "cells": [
  {
   "cell_type": "code",
   "execution_count": 8,
   "metadata": {
    "collapsed": true
   },
   "outputs": [],
   "source": [
    "#shows the screengrabs (for testing only)\n",
    "#question_img.show()\n",
    "#ans1_img.show()\n",
    "#ans2_img.show()\n",
    "#ans3_img.show()"
   ]
  },
  {
   "cell_type": "code",
   "execution_count": 9,
   "metadata": {
    "collapsed": true
   },
   "outputs": [],
   "source": [
    "# Packages \n",
    "import tesserocr\n",
    "from PIL import Image\n",
    "import pyscreenshot\n",
    "from google import google"
   ]
  },
  {
   "cell_type": "code",
   "execution_count": 10,
   "metadata": {
    "collapsed": false
   },
   "outputs": [
    {
     "name": "stdout",
     "output_type": "stream",
     "text": [
      "Question: Where does one go to get\n",
      "tech support for an Apple\n",
      "product?\n",
      "\n",
      "\n",
      "Ans1: Smart Pub\n",
      "\n",
      "\n",
      "Ans2: Erudite Truck Stop\n",
      "\n",
      "\n",
      "Ans3: Genius Bar\n",
      "\n",
      "\n",
      "----------------\n",
      "Correct Answer: Genius Bar\n",
      "\n",
      "\n"
     ]
    }
   ],
   "source": [
    "# Screengrabs the question and answers seperatly\n",
    "question_img = pyscreenshot.grab(bbox=(850,160,1600,300))\n",
    "ans1_img = pyscreenshot.grab(bbox=(850,320,1600,390))\n",
    "ans2_img = pyscreenshot.grab(bbox=(850,390,1600,460))\n",
    "ans3_img = pyscreenshot.grab(bbox=(850,460,1600,550))\n",
    "\n",
    "# prints grabbed text from screenshot\n",
    "question_text = tesserocr.image_to_text(question_img)\n",
    "ans1_text = tesserocr.image_to_text(ans1_img)\n",
    "ans2_text = tesserocr.image_to_text(ans2_img)\n",
    "ans3_text = tesserocr.image_to_text(ans3_img)\n",
    "\n",
    "print \"Question: %s\" % question_text\n",
    "print \"Ans1: %s\" % ans1_text\n",
    "print \"Ans2: %s\" % ans2_text\n",
    "print \"Ans3: %s\" % ans3_text\n",
    "print \"----------------\"\n",
    "print \"Correct Answer: %s\" % ans3_text"
   ]
  },
  {
   "cell_type": "code",
   "execution_count": 11,
   "metadata": {
    "collapsed": false
   },
   "outputs": [
    {
     "name": "stdout",
     "output_type": "stream",
     "text": [
      "['What', 'is', 'the', 'act', 'associated', 'with', 'Hip', 'Hop?']\n",
      "the\n",
      "What\n",
      "is\n",
      "the\n",
      "act\n",
      "associated\n",
      "with\n",
      "Hip\n",
      "Hop?\n"
     ]
    }
   ],
   "source": [
    "question_str = \"What is the act associated with Hip Hop?\"\n",
    "question_lst = question_str.split()\n",
    "print question_lst\n",
    "print question_lst[2]\n",
    "\n",
    "for i in question_lst:\n",
    "    print i"
   ]
  },
  {
   "cell_type": "code",
   "execution_count": 12,
   "metadata": {
    "collapsed": false
   },
   "outputs": [
    {
     "name": "stdout",
     "output_type": "stream",
     "text": [
      "Question: Where does one go to get\n",
      "tech support for an Apple\n",
      "product?\n",
      "\n",
      "\n",
      "Ans1: Smart Pub\n",
      "\n",
      "\n",
      "Ans2: Erudite Truck Stop\n",
      "\n",
      "\n",
      "Ans3: Genius Bar\n",
      "\n",
      "\n",
      "----------------\n",
      "Correct Answer: Genius Bar\n",
      "\n",
      "\n"
     ]
    }
   ],
   "source": [
    "# Screengrabs the question and answers seperatly\n",
    "question_img = pyscreenshot.grab(bbox=(850,160,1600,300))\n",
    "ans1_img = pyscreenshot.grab(bbox=(850,320,1600,390))\n",
    "ans2_img = pyscreenshot.grab(bbox=(850,390,1600,460))\n",
    "ans3_img = pyscreenshot.grab(bbox=(850,460,1600,550))\n",
    "\n",
    "# prints grabbed text from screenshot\n",
    "question_text = tesserocr.image_to_text(question_img)\n",
    "ans1_text = tesserocr.image_to_text(ans1_img)\n",
    "ans2_text = tesserocr.image_to_text(ans2_img)\n",
    "ans3_text = tesserocr.image_to_text(ans3_img)\n",
    "\n",
    "print \"Question: %s\" % question_text\n",
    "print \"Ans1: %s\" % ans1_text\n",
    "print \"Ans2: %s\" % ans2_text\n",
    "print \"Ans3: %s\" % ans3_text\n",
    "print \"----------------\"\n",
    "print \"Correct Answer: %s\" % ans3_text"
   ]
  },
  {
   "cell_type": "code",
   "execution_count": 13,
   "metadata": {
    "collapsed": false
   },
   "outputs": [
    {
     "data": {
      "text/plain": [
       "u'Genius Bar\\n\\n'"
      ]
     },
     "execution_count": 13,
     "metadata": {},
     "output_type": "execute_result"
    }
   ],
   "source": [
    "ans3_text"
   ]
  },
  {
   "cell_type": "code",
   "execution_count": null,
   "metadata": {
    "collapsed": true
   },
   "outputs": [],
   "source": []
  }
 ],
 "metadata": {
  "anaconda-cloud": {},
  "kernelspec": {
   "display_name": "Python [Root]",
   "language": "python",
   "name": "Python [Root]"
  },
  "language_info": {
   "codemirror_mode": {
    "name": "ipython",
    "version": 2
   },
   "file_extension": ".py",
   "mimetype": "text/x-python",
   "name": "python",
   "nbconvert_exporter": "python",
   "pygments_lexer": "ipython2",
   "version": "2.7.12"
  }
 },
 "nbformat": 4,
 "nbformat_minor": 0
}
