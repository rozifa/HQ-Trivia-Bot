{
 "cells": [
  {
   "cell_type": "code",
   "execution_count": 1,
   "metadata": {
    "collapsed": true
   },
   "outputs": [],
   "source": [
    "# Packages \n",
    "import tesserocr\n",
    "from PIL import Image\n",
    "import pyscreenshot\n",
    "from google import google"
   ]
  },
  {
   "cell_type": "code",
   "execution_count": 78,
   "metadata": {
    "collapsed": false
   },
   "outputs": [
    {
     "name": "stdout",
     "output_type": "stream",
     "text": [
      "Question: Where does one go to get tech support for an Apple product?  \n",
      "Ans1: Smart Pub\n",
      "Ans2: Erudite Truck Stop\n",
      "Ans3: Genius Bar\n"
     ]
    }
   ],
   "source": [
    "# Screengrabs the question and answers seperatly\n",
    "question_img = pyscreenshot.grab(bbox=(850,160,1600,300))\n",
    "ans1_img = pyscreenshot.grab(bbox=(850,320,1600,390))\n",
    "ans2_img = pyscreenshot.grab(bbox=(850,390,1600,460))\n",
    "ans3_img = pyscreenshot.grab(bbox=(850,460,1600,550))\n",
    "\n",
    "ans1_img.show()\n",
    "\n",
    "# prints grabbed text from screenshot\n",
    "int_question_text = tesserocr.image_to_text(question_img)\n",
    "int_ans1_text = tesserocr.image_to_text(ans1_img)\n",
    "int_ans2_text = tesserocr.image_to_text(ans2_img)\n",
    "int_ans3_text = tesserocr.image_to_text(ans3_img)\n",
    "\n",
    "question_text = int_question_text.replace(\"\\n\", \" \")\n",
    "ans1_text = int_ans1_text.replace(\"\\n\", \"\")\n",
    "ans2_text = int_ans2_text.replace(\"\\n\", \"\")\n",
    "ans3_text = int_ans3_text.replace(\"\\n\", \"\")\n",
    "\n",
    "# prints formatted question and answer as strings\n",
    "print \"Question: %s\" % question_text\n",
    "print \"Ans1: %s\" % ans1_text\n",
    "print \"Ans2: %s\" % ans2_text\n",
    "print \"Ans3: %s\" % ans3_text"
   ]
  },
  {
   "cell_type": "code",
   "execution_count": 8,
   "metadata": {
    "collapsed": true
   },
   "outputs": [],
   "source": [
    "# Search google for the question and assign it to a variable\n",
    "google_results = google.search(question_text, 1)"
   ]
  },
  {
   "cell_type": "code",
   "execution_count": 86,
   "metadata": {
    "collapsed": false
   },
   "outputs": [
    {
     "data": {
      "text/plain": [
       "1"
      ]
     },
     "execution_count": 86,
     "metadata": {},
     "output_type": "execute_result"
    }
   ],
   "source": [
    "counts = [0,0,0]\n",
    "answers = [\"product inquiries\",ans1_text,ans2_text,ans3_text]\n",
    "converted_description = google_results[0].description\n",
    "counted_description = converted_description.count(answers[0])\n",
    "counted_description"
   ]
  },
  {
   "cell_type": "code",
   "execution_count": 110,
   "metadata": {
    "collapsed": false
   },
   "outputs": [],
   "source": [
    "def approach_one(results, ans1, ans2, ans3):\n",
    "    counts = [0,0,0]\n",
    "    answers = [ans1, \"product inquiries\", ans2, ans3]\n",
    "\n",
    "    for i in range(len(answers)):\n",
    "        for j in range(len(results)):\n",
    "            converted_description = results[j].description\n",
    "        counted_description = converted_description.count(answers[i])\n",
    "        if counted_description > max(counts):\n",
    "            counts[i] = counted_description\n",
    "        else:\n",
    "            counts = counts \n",
    "\n",
    "    correct_index = counts.index(max(counts))\n",
    "    correct_answer = answers[correct_index]\n",
    "    max_count = max(counts)\n",
    "\n",
    "    return \"The correct answer is %s with count %s.\" % (correct_answer, max_count)"
   ]
  },
  {
   "cell_type": "code",
   "execution_count": 111,
   "metadata": {
    "collapsed": false
   },
   "outputs": [
    {
     "data": {
      "text/plain": [
       "u'The correct answer is Smart Pub with count 0.'"
      ]
     },
     "execution_count": 111,
     "metadata": {},
     "output_type": "execute_result"
    }
   ],
   "source": [
    "approach_one(google_results, ans1_text, ans2_text, ans3_text)"
   ]
  },
  {
   "cell_type": "code",
   "execution_count": null,
   "metadata": {
    "collapsed": true
   },
   "outputs": [],
   "source": []
  }
 ],
 "metadata": {
  "anaconda-cloud": {},
  "kernelspec": {
   "display_name": "Python [Root]",
   "language": "python",
   "name": "Python [Root]"
  },
  "language_info": {
   "codemirror_mode": {
    "name": "ipython",
    "version": 2
   },
   "file_extension": ".py",
   "mimetype": "text/x-python",
   "name": "python",
   "nbconvert_exporter": "python",
   "pygments_lexer": "ipython2",
   "version": "2.7.12"
  }
 },
 "nbformat": 4,
 "nbformat_minor": 0
}
